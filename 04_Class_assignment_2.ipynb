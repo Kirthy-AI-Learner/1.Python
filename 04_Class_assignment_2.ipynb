{
 "cells": [
  {
   "cell_type": "code",
   "execution_count": 2,
   "id": "7a750e62",
   "metadata": {},
   "outputs": [],
   "source": [
    "from Group_functions import GroupFunctions "
   ]
  },
  {
   "cell_type": "code",
   "execution_count": 3,
   "id": "817fd839",
   "metadata": {},
   "outputs": [
    {
     "name": "stdout",
     "output_type": "stream",
     "text": [
      "Sub-fields in AI are: \n",
      "Machine Learning\n",
      "Neural Networks\n",
      "Vision\n",
      "Robotics\n",
      "Speech Processing\n",
      "Natural Language Processing\n"
     ]
    }
   ],
   "source": [
    "GroupFunctions.listFunction()"
   ]
  },
  {
   "cell_type": "code",
   "execution_count": 4,
   "id": "5969a77b",
   "metadata": {},
   "outputs": [
    {
     "name": "stdout",
     "output_type": "stream",
     "text": [
      "Enter the number: 45\n",
      "45  is Odd number\n"
     ]
    }
   ],
   "source": [
    "GroupFunctions.OddEven()"
   ]
  },
  {
   "cell_type": "code",
   "execution_count": 5,
   "id": "25ce2f1d",
   "metadata": {},
   "outputs": [
    {
     "name": "stdout",
     "output_type": "stream",
     "text": [
      "Your Gender: Male\n",
      "Your Age: 45\n",
      "ELIGIBLE\n"
     ]
    }
   ],
   "source": [
    "GroupFunctions.Eligible()"
   ]
  },
  {
   "cell_type": "code",
   "execution_count": 6,
   "id": "d5857ed4",
   "metadata": {},
   "outputs": [
    {
     "name": "stdout",
     "output_type": "stream",
     "text": [
      "Subject1 = 45\n",
      "Subject2 = 33\n",
      "Subject3 = 31\n",
      "Subject4 = 43\n",
      "Subject5 = 55\n",
      "Total:  207\n",
      "Percentage:  41.4\n"
     ]
    }
   ],
   "source": [
    "GroupFunctions.percentage()"
   ]
  },
  {
   "cell_type": "code",
   "execution_count": 7,
   "id": "39e6d142",
   "metadata": {},
   "outputs": [
    {
     "name": "stdout",
     "output_type": "stream",
     "text": [
      "Height : 3\n",
      "Breadth : 4\n",
      "Area formula: (Height*Breadth)/2\n",
      "Area of Triangle: 6.0\n",
      "Height1 : 5\n",
      "Height2 : 6\n",
      "Breadth : 64\n",
      "Perimeter formula: Height1+Height2+Breadth\n",
      "Perimeter of Triangle:  75\n"
     ]
    }
   ],
   "source": [
    "GroupFunctions.triangle()"
   ]
  },
  {
   "cell_type": "code",
   "execution_count": null,
   "id": "9dcca822",
   "metadata": {},
   "outputs": [],
   "source": []
  }
 ],
 "metadata": {
  "kernelspec": {
   "display_name": "Python 3 (ipykernel)",
   "language": "python",
   "name": "python3"
  },
  "language_info": {
   "codemirror_mode": {
    "name": "ipython",
    "version": 3
   },
   "file_extension": ".py",
   "mimetype": "text/x-python",
   "name": "python",
   "nbconvert_exporter": "python",
   "pygments_lexer": "ipython3",
   "version": "3.9.12"
  }
 },
 "nbformat": 4,
 "nbformat_minor": 5
}
