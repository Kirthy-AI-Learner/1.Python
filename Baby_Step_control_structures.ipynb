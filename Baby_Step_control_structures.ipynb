{
 "cells": [
  {
   "cell_type": "code",
   "execution_count": 1,
   "id": "46800660",
   "metadata": {},
   "outputs": [
    {
     "name": "stdout",
     "output_type": "stream",
     "text": [
      " Welcome to Assignment-1\n"
     ]
    }
   ],
   "source": [
    "# Printing Welcome to Assignment-1\n",
    "print(\" Welcome to Assignment-1\")"
   ]
  },
  {
   "cell_type": "code",
   "execution_count": 3,
   "id": "360dbb4a",
   "metadata": {},
   "outputs": [
    {
     "name": "stdout",
     "output_type": "stream",
     "text": [
      "Num1= 10\n",
      "Num2= 30\n",
      "Add= 40\n"
     ]
    }
   ],
   "source": [
    "# Addition of two numbers \n",
    "# Num1= 10\n",
    "#  Num2= 30\n",
    "#  Add= 40\n",
    "Num1 = 10\n",
    "Num2 = 30\n",
    "Add = Num1 + Num2\n",
    "\n",
    "print(\"Num1=\",Num1)\n",
    "print(\"Num2=\",Num2)\n",
    "print(\"Add=\",Add)\n",
    "\n"
   ]
  },
  {
   "cell_type": "code",
   "execution_count": 13,
   "id": "87617c43",
   "metadata": {},
   "outputs": [
    {
     "name": "stdout",
     "output_type": "stream",
     "text": [
      "Enter the BMI Index:25\n",
      "Overweight\n"
     ]
    }
   ],
   "source": [
    "# Body Mass Index\n",
    "# Enter the BMI Index:34\n",
    "# Very Overweight\n",
    "\n",
    "BMI = float(input(\"Enter the BMI Index:\"))\n",
    "\n",
    "if(BMI<18.5):\n",
    "    print(\"Underweight\")\n",
    "elif(BMI>=18.5 and BMI<=24.9):\n",
    "    print(\"Normal Range\")\n",
    "elif(BMI>=25 and BMI<=29.9):\n",
    "    print(\"Overweight\")\n",
    "elif(BMI>=30):\n",
    "    if(BMI>=30 and BMI<=34.9):\n",
    "        print(\"Obese Class I\")\n",
    "    elif(BMI>=35 and BMI<=39.9):\n",
    "        print(\"Obese Class II\")\n",
    "    else:\n",
    "        print(\"Obese Class III\")\n"
   ]
  },
  {
   "cell_type": "code",
   "execution_count": null,
   "id": "95e59f6c",
   "metadata": {},
   "outputs": [],
   "source": []
  }
 ],
 "metadata": {
  "kernelspec": {
   "display_name": "Python 3 (ipykernel)",
   "language": "python",
   "name": "python3"
  },
  "language_info": {
   "codemirror_mode": {
    "name": "ipython",
    "version": 3
   },
   "file_extension": ".py",
   "mimetype": "text/x-python",
   "name": "python",
   "nbconvert_exporter": "python",
   "pygments_lexer": "ipython3",
   "version": "3.9.12"
  }
 },
 "nbformat": 4,
 "nbformat_minor": 5
}
