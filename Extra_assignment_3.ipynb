{
 "cells": [
  {
   "cell_type": "code",
   "execution_count": 26,
   "id": "b11641a0",
   "metadata": {},
   "outputs": [
    {
     "name": "stdout",
     "output_type": "stream",
     "text": [
      "Enter the number12\n",
      "Wrong\n"
     ]
    }
   ],
   "source": [
    "# print 'CORRECT' if i == 10 \n",
    "# range_val = range(0,15)\n",
    "# for value in range_val:\n",
    "#     if(value == 10):\n",
    "#         print(value,\"is Correct\")\n",
    "\n",
    "value = int(input(\"Enter the number\"))\n",
    "if(value==10):\n",
    "    print('Correct')\n",
    "else:\n",
    "    print('Wrong')"
   ]
  },
  {
   "cell_type": "code",
   "execution_count": 6,
   "id": "97273b8e",
   "metadata": {},
   "outputs": [
    {
     "name": "stdout",
     "output_type": "stream",
     "text": [
      "False\n",
      "True\n"
     ]
    }
   ],
   "source": [
    "val = \"10\"\n",
    "print(val.isalpha())\n",
    "print(val.isdigit())"
   ]
  },
  {
   "cell_type": "code",
   "execution_count": 29,
   "id": "efee8c35",
   "metadata": {},
   "outputs": [
    {
     "name": "stdout",
     "output_type": "stream",
     "text": [
      "Enter the password:HOPE@123\n",
      "Your password is Correct\n"
     ]
    }
   ],
   "source": [
    "# Check the password, using if and else \n",
    "# Enter the password: HOPE@123 \n",
    "# Your password is correct \n",
    "\n",
    "\n",
    "# char_check = False\n",
    "# int_check = False\n",
    "# password = input(\"Enter the password:\")\n",
    "# for char in password:\n",
    "#     if((char.isalpha()==True)):\n",
    "#         char_check = True\n",
    "#     if ((char.isdigit()==True)):\n",
    "#         int_check  = True\n",
    "# if(char_check==True and int_check==True):\n",
    "#     print(\"Your password is correct\")\n",
    "\n",
    "password = input(\"Enter the password:\")\n",
    "if(password=='HOPE@123'):\n",
    "    print(\"Your password is Correct\")\n",
    "else:\n",
    "    print(\"Your password is wrong\")"
   ]
  },
  {
   "cell_type": "code",
   "execution_count": 21,
   "id": "9d825809",
   "metadata": {},
   "outputs": [
    {
     "name": "stdout",
     "output_type": "stream",
     "text": [
      "Enter the age4\n",
      "Children\n"
     ]
    }
   ],
   "source": [
    "#  Catagory the people by their age like children, adult, citizen, senior citizen... \n",
    "age = int(input(\"Enter the age:\"))\n",
    "\n",
    "if(age>0 and age <18):\n",
    "    print(\"Children\")\n",
    "elif(age==18):\n",
    "    print(\"Adult\")\n",
    "elif(age>18 and age<60):\n",
    "    print(\"Citizen\")\n",
    "else:\n",
    "    print(\"Senior Citizen\")"
   ]
  },
  {
   "cell_type": "code",
   "execution_count": 22,
   "id": "3cd4ed90",
   "metadata": {},
   "outputs": [
    {
     "name": "stdout",
     "output_type": "stream",
     "text": [
      "Enter the number:5\n",
      "The number is positive\n"
     ]
    }
   ],
   "source": [
    "# Find whether given number is positive or negative \n",
    "num = int(input(\"Enter the number:\"))\n",
    "if(num>0):\n",
    "    print(\"The number is positive\")\n",
    "elif(num<0):\n",
    "    print(\"The number is negative\")"
   ]
  },
  {
   "cell_type": "code",
   "execution_count": 24,
   "id": "6230ceb5",
   "metadata": {},
   "outputs": [
    {
     "name": "stdout",
     "output_type": "stream",
     "text": [
      "Enter the number:22\n",
      "The number is not divisible by 5\n"
     ]
    }
   ],
   "source": [
    " # Check whether the given number is divisible by 5 \n",
    "num = int(input(\"Enter the number:\"))\n",
    "if(num%5==0):\n",
    "    print(\"The number is divisible by 5\")\n",
    "else:\n",
    "    print(\"The number is not divisible by 5\")"
   ]
  },
  {
   "cell_type": "code",
   "execution_count": null,
   "id": "e6eb6d6f",
   "metadata": {},
   "outputs": [],
   "source": []
  }
 ],
 "metadata": {
  "kernelspec": {
   "display_name": "Python 3 (ipykernel)",
   "language": "python",
   "name": "python3"
  },
  "language_info": {
   "codemirror_mode": {
    "name": "ipython",
    "version": 3
   },
   "file_extension": ".py",
   "mimetype": "text/x-python",
   "name": "python",
   "nbconvert_exporter": "python",
   "pygments_lexer": "ipython3",
   "version": "3.9.12"
  }
 },
 "nbformat": 4,
 "nbformat_minor": 5
}
