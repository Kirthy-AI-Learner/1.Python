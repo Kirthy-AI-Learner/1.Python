{
 "cells": [
  {
   "cell_type": "code",
   "execution_count": 1,
   "id": "5d367151",
   "metadata": {},
   "outputs": [
    {
     "name": "stdout",
     "output_type": "stream",
     "text": [
      "HOPE AI\n"
     ]
    }
   ],
   "source": [
    " #print Statement \n",
    "print(\"HOPE AI\")"
   ]
  },
  {
   "cell_type": "code",
   "execution_count": 2,
   "id": "0e4a19b5",
   "metadata": {},
   "outputs": [
    {
     "name": "stdout",
     "output_type": "stream",
     "text": [
      "Enter your institute name? :HOPE AI\n"
     ]
    }
   ],
   "source": [
    " # Buy input  \n",
    "institute = input(\"Enter your institute name? :\")"
   ]
  },
  {
   "cell_type": "code",
   "execution_count": 3,
   "id": "b6a20ff9",
   "metadata": {},
   "outputs": [
    {
     "name": "stdout",
     "output_type": "stream",
     "text": [
      "Enter your name :Krithi\n",
      "Enter your age :32\n",
      "Enter your school name? :URC school\n",
      "Enter your degree? :Btech IT\n"
     ]
    }
   ],
   "source": [
    "# #Buy inputs \n",
    "# Enter your name: Raj \n",
    "# Enter your age: 15 \n",
    "# Enter your school name: Guru school \n",
    "# Enter your drgree: B.E CSE\n",
    "\n",
    "name = input(\"Enter your name :\")\n",
    "age = input(\"Enter your age :\")\n",
    "school = input(\"Enter your school name? :\")\n",
    "degree = input(\"Enter your degree? :\")"
   ]
  },
  {
   "cell_type": "code",
   "execution_count": 4,
   "id": "54861642",
   "metadata": {},
   "outputs": [
    {
     "name": "stdout",
     "output_type": "stream",
     "text": [
      "a= 43\n",
      "b= 34\n",
      "add= 77\n"
     ]
    }
   ],
   "source": [
    "#Addition \n",
    "# a= 43 \n",
    "# b= 34 \n",
    "# add = 77\n",
    "\n",
    "a = 43\n",
    "b=34\n",
    "add = a+b\n",
    "print(\"a=\",a)\n",
    "print(\"b=\",b)\n",
    "print(\"add=\",add)"
   ]
  },
  {
   "cell_type": "code",
   "execution_count": 6,
   "id": "159d4a23",
   "metadata": {},
   "outputs": [
    {
     "name": "stdout",
     "output_type": "stream",
     "text": [
      "a= 43\n",
      "b= 34\n",
      "sub= 9\n"
     ]
    }
   ],
   "source": [
    "#Subtraction \n",
    "# a= 43 \n",
    "# b= 34 \n",
    "\n",
    "a = 43\n",
    "b=34\n",
    "sub = a-b\n",
    "print(\"a=\",a)\n",
    "print(\"b=\",b)\n",
    "print(\"sub=\",sub)"
   ]
  },
  {
   "cell_type": "code",
   "execution_count": 9,
   "id": "88ab2187",
   "metadata": {},
   "outputs": [
    {
     "name": "stdout",
     "output_type": "stream",
     "text": [
      "a= 63\n",
      "b= 97\n",
      "Mul= 6111\n"
     ]
    }
   ],
   "source": [
    "#Multiplication \n",
    "# a= 63 \n",
    "# b= 97 \n",
    "\n",
    "a = 63\n",
    "b= 97\n",
    "Mul = a*b\n",
    "print(\"a=\",a)\n",
    "print(\"b=\",b)\n",
    "print(\"Mul=\",Mul)"
   ]
  },
  {
   "cell_type": "code",
   "execution_count": 10,
   "id": "cfb32eb6",
   "metadata": {},
   "outputs": [
    {
     "name": "stdout",
     "output_type": "stream",
     "text": [
      "a= 76\n",
      "b= 31\n",
      "Div= 2.4516129032258065\n"
     ]
    }
   ],
   "source": [
    "#Division \n",
    "# a= 76 \n",
    "# b= 31 \n",
    "\n",
    "a = 76\n",
    "b= 31\n",
    "Div = a/b\n",
    "print(\"a=\",a)\n",
    "print(\"b=\",b)\n",
    "print(\"Div=\",Div)"
   ]
  },
  {
   "cell_type": "code",
   "execution_count": 11,
   "id": "fdf6f9e5",
   "metadata": {},
   "outputs": [
    {
     "name": "stdout",
     "output_type": "stream",
     "text": [
      "a= 76\n",
      "b= 31\n",
      "Floor Div= 2\n"
     ]
    }
   ],
   "source": [
    "#Floor \n",
    "# a= 76 \n",
    "# b= 31 \n",
    "import math\n",
    "\n",
    "a = 76\n",
    "b= 31\n",
    "Floor_Div = math.floor(a/b)\n",
    "print(\"a=\",a)\n",
    "print(\"b=\",b)\n",
    "print(\"Floor Div=\",Floor_Div)"
   ]
  },
  {
   "cell_type": "code",
   "execution_count": 12,
   "id": "8b63dafa",
   "metadata": {},
   "outputs": [
    {
     "name": "stdout",
     "output_type": "stream",
     "text": [
      "a= 76\n",
      "b= 31\n",
      "modulo= 14\n"
     ]
    }
   ],
   "source": [
    "#Modulo \n",
    "# a= 76 \n",
    "# b= 31 \n",
    "import math\n",
    "\n",
    "a = 76\n",
    "b= 31\n",
    "modulo = a%b\n",
    "print(\"a=\",a)\n",
    "print(\"b=\",b)\n",
    "print(\"modulo=\",modulo)"
   ]
  },
  {
   "cell_type": "code",
   "execution_count": 13,
   "id": "7430d71f",
   "metadata": {},
   "outputs": [
    {
     "name": "stdout",
     "output_type": "stream",
     "text": [
      "a= 4\n",
      "b= 4\n",
      "Power= 256\n"
     ]
    }
   ],
   "source": [
    "#Power \n",
    "# a= 76 \n",
    "# b= 31 \n",
    "import math\n",
    "\n",
    "a = 4\n",
    "b= 4\n",
    "power = pow(a,b)\n",
    "print(\"a=\",a)\n",
    "print(\"b=\",b)\n",
    "print(\"Power=\",power)"
   ]
  },
  {
   "cell_type": "code",
   "execution_count": null,
   "id": "28f223ce",
   "metadata": {},
   "outputs": [],
   "source": []
  }
 ],
 "metadata": {
  "kernelspec": {
   "display_name": "Python 3 (ipykernel)",
   "language": "python",
   "name": "python3"
  },
  "language_info": {
   "codemirror_mode": {
    "name": "ipython",
    "version": 3
   },
   "file_extension": ".py",
   "mimetype": "text/x-python",
   "name": "python",
   "nbconvert_exporter": "python",
   "pygments_lexer": "ipython3",
   "version": "3.9.12"
  }
 },
 "nbformat": 4,
 "nbformat_minor": 5
}
